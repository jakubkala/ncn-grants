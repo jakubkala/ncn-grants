{
 "cells": [
  {
   "cell_type": "code",
   "execution_count": 1,
   "metadata": {},
   "outputs": [
    {
     "name": "stdout",
     "output_type": "stream",
     "text": [
      "/home/jakubkala/IAD/semestr-2/data-visualisation/ncn-grants\r\n"
     ]
    }
   ],
   "source": [
    "!pwd"
   ]
  },
  {
   "cell_type": "code",
   "execution_count": 2,
   "metadata": {},
   "outputs": [],
   "source": [
    "import pandas as pd\n",
    "import numpy as np"
   ]
  },
  {
   "cell_type": "code",
   "execution_count": 3,
   "metadata": {},
   "outputs": [
    {
     "name": "stdout",
     "output_type": "stream",
     "text": [
      "descriptors.csv\t\tgrants_preprocessed.csv  ncn_2019.csv\t   README.md\r\n",
      "grants_description.csv\tgrants_small.csv\t ncn_fill.csv\r\n",
      "grants_larger.csv\tharmonogram\t\t overall_data.csv\r\n"
     ]
    }
   ],
   "source": [
    "!ls data/"
   ]
  },
  {
   "cell_type": "code",
   "execution_count": 4,
   "metadata": {},
   "outputs": [],
   "source": [
    "grants = pd.read_csv(\"data/grants_preprocessed.csv\")"
   ]
  },
  {
   "cell_type": "code",
   "execution_count": 5,
   "metadata": {},
   "outputs": [
    {
     "data": {
      "text/html": [
       "<div>\n",
       "<style scoped>\n",
       "    .dataframe tbody tr th:only-of-type {\n",
       "        vertical-align: middle;\n",
       "    }\n",
       "\n",
       "    .dataframe tbody tr th {\n",
       "        vertical-align: top;\n",
       "    }\n",
       "\n",
       "    .dataframe thead th {\n",
       "        text-align: right;\n",
       "    }\n",
       "</style>\n",
       "<table border=\"1\" class=\"dataframe\">\n",
       "  <thead>\n",
       "    <tr style=\"text-align: right;\">\n",
       "      <th></th>\n",
       "      <th>id</th>\n",
       "      <th>title</th>\n",
       "      <th>institution</th>\n",
       "      <th>project_status</th>\n",
       "      <th>comp</th>\n",
       "      <th>comp_date</th>\n",
       "      <th>comp_edition</th>\n",
       "      <th>comp_name</th>\n",
       "      <th>subpanel_code_type</th>\n",
       "      <th>subpanel_code_number</th>\n",
       "      <th>subpanel_description</th>\n",
       "      <th>budget_pln</th>\n",
       "      <th>duration_months</th>\n",
       "      <th>coinvestigators_cnt</th>\n",
       "    </tr>\n",
       "  </thead>\n",
       "  <tbody>\n",
       "    <tr>\n",
       "      <th>0</th>\n",
       "      <td>2011/01/B/HS1/00522</td>\n",
       "      <td>Czy istnieje coś, co zwiemy moralnym charakter...</td>\n",
       "      <td>UNIWERSYTET GDAŃSKI, Wydział Nauk Społecznych,...</td>\n",
       "      <td>Status projektu: Projekt rozliczony</td>\n",
       "      <td>OPUS 1</td>\n",
       "      <td>2011-03-15</td>\n",
       "      <td>1.0</td>\n",
       "      <td>OPUS</td>\n",
       "      <td>HS</td>\n",
       "      <td>1</td>\n",
       "      <td>Fundamentalne pytania o naturę człowieka i ota...</td>\n",
       "      <td>37560.0</td>\n",
       "      <td>30</td>\n",
       "      <td>1.0</td>\n",
       "    </tr>\n",
       "    <tr>\n",
       "      <th>1</th>\n",
       "      <td>2011/01/B/HS1/00559</td>\n",
       "      <td>Odnowa czy herezja? Stosunek fenomenologii wsp...</td>\n",
       "      <td>Uniwersytet Gdański, Wydział Nauk Społecznych</td>\n",
       "      <td>Status projektu: Projekt rozliczony</td>\n",
       "      <td>OPUS 1</td>\n",
       "      <td>2011-03-15</td>\n",
       "      <td>1.0</td>\n",
       "      <td>OPUS</td>\n",
       "      <td>HS</td>\n",
       "      <td>1</td>\n",
       "      <td>Fundamentalne pytania o naturę człowieka i ota...</td>\n",
       "      <td>39000.0</td>\n",
       "      <td>36</td>\n",
       "      <td>1.0</td>\n",
       "    </tr>\n",
       "    <tr>\n",
       "      <th>2</th>\n",
       "      <td>2011/01/B/HS1/00771</td>\n",
       "      <td>Status ziemi Izraela w Księdze Ezechiela i jeg...</td>\n",
       "      <td>Katolicki Uniwersytet Lubelski Jana Pawła II, ...</td>\n",
       "      <td>Status projektu: Projekt rozliczony</td>\n",
       "      <td>OPUS 1</td>\n",
       "      <td>2011-03-15</td>\n",
       "      <td>1.0</td>\n",
       "      <td>OPUS</td>\n",
       "      <td>HS</td>\n",
       "      <td>1</td>\n",
       "      <td>Fundamentalne pytania o naturę człowieka i ota...</td>\n",
       "      <td>58908.0</td>\n",
       "      <td>30</td>\n",
       "      <td>1.0</td>\n",
       "    </tr>\n",
       "    <tr>\n",
       "      <th>3</th>\n",
       "      <td>2011/01/B/HS1/00944</td>\n",
       "      <td>Relacje tolerancji w kratach i ich wykorzystanie</td>\n",
       "      <td>Akademia im. Jana Długosza w Częstochowie, Wyd...</td>\n",
       "      <td>Status projektu: Projekt rozliczony</td>\n",
       "      <td>OPUS 1</td>\n",
       "      <td>2011-03-15</td>\n",
       "      <td>1.0</td>\n",
       "      <td>OPUS</td>\n",
       "      <td>HS</td>\n",
       "      <td>1</td>\n",
       "      <td>Fundamentalne pytania o naturę człowieka i ota...</td>\n",
       "      <td>69850.0</td>\n",
       "      <td>24</td>\n",
       "      <td>3.0</td>\n",
       "    </tr>\n",
       "    <tr>\n",
       "      <th>4</th>\n",
       "      <td>2011/01/B/HS1/00954</td>\n",
       "      <td>Jezus i chrześcijanie w źródłach rabinicznych ...</td>\n",
       "      <td>UNIWERSYTET JAGIELLOŃSKI, Wydział Filozoficzny</td>\n",
       "      <td>Status projektu: Projekt rozliczony</td>\n",
       "      <td>OPUS 1</td>\n",
       "      <td>2011-03-15</td>\n",
       "      <td>1.0</td>\n",
       "      <td>OPUS</td>\n",
       "      <td>HS</td>\n",
       "      <td>1</td>\n",
       "      <td>Fundamentalne pytania o naturę człowieka i ota...</td>\n",
       "      <td>59800.0</td>\n",
       "      <td>12</td>\n",
       "      <td>16.0</td>\n",
       "    </tr>\n",
       "  </tbody>\n",
       "</table>\n",
       "</div>"
      ],
      "text/plain": [
       "                    id                                              title  \\\n",
       "0  2011/01/B/HS1/00522  Czy istnieje coś, co zwiemy moralnym charakter...   \n",
       "1  2011/01/B/HS1/00559  Odnowa czy herezja? Stosunek fenomenologii wsp...   \n",
       "2  2011/01/B/HS1/00771  Status ziemi Izraela w Księdze Ezechiela i jeg...   \n",
       "3  2011/01/B/HS1/00944   Relacje tolerancji w kratach i ich wykorzystanie   \n",
       "4  2011/01/B/HS1/00954  Jezus i chrześcijanie w źródłach rabinicznych ...   \n",
       "\n",
       "                                         institution  \\\n",
       "0  UNIWERSYTET GDAŃSKI, Wydział Nauk Społecznych,...   \n",
       "1      Uniwersytet Gdański, Wydział Nauk Społecznych   \n",
       "2  Katolicki Uniwersytet Lubelski Jana Pawła II, ...   \n",
       "3  Akademia im. Jana Długosza w Częstochowie, Wyd...   \n",
       "4     UNIWERSYTET JAGIELLOŃSKI, Wydział Filozoficzny   \n",
       "\n",
       "                        project_status    comp   comp_date  comp_edition  \\\n",
       "0  Status projektu: Projekt rozliczony  OPUS 1  2011-03-15           1.0   \n",
       "1  Status projektu: Projekt rozliczony  OPUS 1  2011-03-15           1.0   \n",
       "2  Status projektu: Projekt rozliczony  OPUS 1  2011-03-15           1.0   \n",
       "3  Status projektu: Projekt rozliczony  OPUS 1  2011-03-15           1.0   \n",
       "4  Status projektu: Projekt rozliczony  OPUS 1  2011-03-15           1.0   \n",
       "\n",
       "  comp_name subpanel_code_type  subpanel_code_number  \\\n",
       "0      OPUS                 HS                     1   \n",
       "1      OPUS                 HS                     1   \n",
       "2      OPUS                 HS                     1   \n",
       "3      OPUS                 HS                     1   \n",
       "4      OPUS                 HS                     1   \n",
       "\n",
       "                                subpanel_description  budget_pln  \\\n",
       "0  Fundamentalne pytania o naturę człowieka i ota...     37560.0   \n",
       "1  Fundamentalne pytania o naturę człowieka i ota...     39000.0   \n",
       "2  Fundamentalne pytania o naturę człowieka i ota...     58908.0   \n",
       "3  Fundamentalne pytania o naturę człowieka i ota...     69850.0   \n",
       "4  Fundamentalne pytania o naturę człowieka i ota...     59800.0   \n",
       "\n",
       "   duration_months  coinvestigators_cnt  \n",
       "0               30                  1.0  \n",
       "1               36                  1.0  \n",
       "2               30                  1.0  \n",
       "3               24                  3.0  \n",
       "4               12                 16.0  "
      ]
     },
     "execution_count": 5,
     "metadata": {},
     "output_type": "execute_result"
    }
   ],
   "source": [
    "grants.head()"
   ]
  },
  {
   "cell_type": "code",
   "execution_count": 6,
   "metadata": {},
   "outputs": [],
   "source": [
    "grants['year'] = grants.comp_date.apply(lambda x: x[:4])"
   ]
  },
  {
   "cell_type": "code",
   "execution_count": 7,
   "metadata": {},
   "outputs": [],
   "source": [
    "plot1_data = grants.loc[:, ['subpanel_code_type', 'year', 'budget_pln']].groupby(['subpanel_code_type', 'year']).sum()\n",
    "plot1_data.budget_pln /= 10**6"
   ]
  },
  {
   "cell_type": "code",
   "execution_count": 8,
   "metadata": {},
   "outputs": [],
   "source": [
    "plot1_data.reset_index(inplace=True)"
   ]
  },
  {
   "cell_type": "code",
   "execution_count": 9,
   "metadata": {},
   "outputs": [
    {
     "data": {
      "text/plain": [
       "<Figure size 200x1300 with 0 Axes>"
      ]
     },
     "execution_count": 9,
     "metadata": {},
     "output_type": "execute_result"
    }
   ],
   "source": [
    "import matplotlib.pyplot as plt\n",
    "import seaborn as sns\n",
    "\n",
    "sns.set_style(\"whitegrid\")\n",
    "sns.palplot(sns.color_palette(\"GnBu_d\"))\n",
    "sns.set_palette(\"GnBu_d\")\n",
    "plt.figure(figsize=(2, 13))"
   ]
  },
  {
   "cell_type": "code",
   "execution_count": 30,
   "metadata": {},
   "outputs": [],
   "source": [
    "typ_konkursu = {\n",
    "        \"HS\" : \"nauki humanistyczne, społeczne i o sztuce\",\n",
    "        \"ST\" : \"nauki ścisłe i techniczne\",\n",
    "        \"NZ\" : \"nauki o życiu\"\n",
    "}\n"
   ]
  },
  {
   "cell_type": "code",
   "execution_count": 37,
   "metadata": {},
   "outputs": [
    {
     "data": {
      "image/png": "[encoded data removed]",
      "text/plain": [
       "<Figure size 1080x648 with 1 Axes>"
      ]
     },
     "metadata": {
      "needs_background": "light"
     },
     "output_type": "display_data"
    }
   ],
   "source": [
    "bottom = plot1_data.loc[plot1_data.subpanel_code_type == 'ST', 'budget_pln'] * 0\n",
    "bottom = np.array(bottom)\n",
    "\n",
    "\n",
    "plt.figure(figsize=(15, 9))\n",
    "for panel in list(plot1_data.subpanel_code_type.unique()):\n",
    "    \n",
    "    df = plot1_data.loc[plot1_data.subpanel_code_type == panel, :]\n",
    "    plt.bar(df.year, df.budget_pln , bottom = bottom, label=panel + \" - \" + str(typ_konkursu[panel]))\n",
    "    bottom += np.array(df.budget_pln)\n",
    "\n",
    "    plt.ylabel('Kwota w milionach PLN')\n",
    "    \n",
    "plt.title('Budget by panel')\n",
    "plt.legend(bbox_to_anchor=(0.6, -0.1))\n",
    "\n",
    "plt.savefig('./plots/verticalbarchart.png')\n",
    "plt.show()"
   ]
  },
  {
   "cell_type": "code",
   "execution_count": 41,
   "metadata": {},
   "outputs": [
    {
     "data": {
      "image/png": "[encoded data removed]",
      "text/plain": [
       "<Figure size 1080x648 with 1 Axes>"
      ]
     },
     "metadata": {
      "needs_background": "light"
     },
     "output_type": "display_data"
    }
   ],
   "source": [
    "plt.figure(figsize=(15, 9))\n",
    "\n",
    "for panel in list(plot1_data.subpanel_code_type.unique()):\n",
    "    \n",
    "    df = plot1_data.loc[plot1_data.subpanel_code_type == panel, :]\n",
    "    plt.plot(df.year, df.budget_pln,\n",
    "             label=panel + \" - \" + str(typ_konkursu[panel]),\n",
    "             marker='o')\n",
    "    plt.ylabel('Kwota w milionach PLN')\n",
    "    \n",
    "plt.title('Łączna suma grantów w ramach konkursów NCN')\n",
    "plt.legend(bbox_to_anchor=(0.6, -0.1))\n",
    "\n",
    "plt.savefig('./plots/lineplot.png')\n",
    "plt.show()\n"
   ]
  },
  {
   "cell_type": "code",
   "execution_count": 34,
   "metadata": {},
   "outputs": [
    {
     "data": {
      "text/html": [
       "<div>\n",
       "<style scoped>\n",
       "    .dataframe tbody tr th:only-of-type {\n",
       "        vertical-align: middle;\n",
       "    }\n",
       "\n",
       "    .dataframe tbody tr th {\n",
       "        vertical-align: top;\n",
       "    }\n",
       "\n",
       "    .dataframe thead th {\n",
       "        text-align: right;\n",
       "    }\n",
       "</style>\n",
       "<table border=\"1\" class=\"dataframe\">\n",
       "  <thead>\n",
       "    <tr style=\"text-align: right;\">\n",
       "      <th></th>\n",
       "      <th>budget_pln</th>\n",
       "    </tr>\n",
       "    <tr>\n",
       "      <th>subpanel_code_type</th>\n",
       "      <th></th>\n",
       "    </tr>\n",
       "  </thead>\n",
       "  <tbody>\n",
       "    <tr>\n",
       "      <th>HS</th>\n",
       "      <td>1326.251149</td>\n",
       "    </tr>\n",
       "    <tr>\n",
       "      <th>NZ</th>\n",
       "      <td>3376.958201</td>\n",
       "    </tr>\n",
       "    <tr>\n",
       "      <th>ST</th>\n",
       "      <td>3768.027727</td>\n",
       "    </tr>\n",
       "  </tbody>\n",
       "</table>\n",
       "</div>"
      ],
      "text/plain": [
       "                     budget_pln\n",
       "subpanel_code_type             \n",
       "HS                  1326.251149\n",
       "NZ                  3376.958201\n",
       "ST                  3768.027727"
      ]
     },
     "execution_count": 34,
     "metadata": {},
     "output_type": "execute_result"
    }
   ],
   "source": [
    "plot1_data.groupby('subpanel_code_type').sum()"
   ]
  },
  {
   "cell_type": "code",
   "execution_count": 35,
   "metadata": {},
   "outputs": [
    {
     "data": {
      "text/plain": [
       "8471.237076999998"
      ]
     },
     "execution_count": 35,
     "metadata": {},
     "output_type": "execute_result"
    }
   ],
   "source": [
    "sum(plot1_data.budget_pln)"
   ]
  },
  {
   "cell_type": "code",
   "execution_count": 49,
   "metadata": {},
   "outputs": [
    {
     "data": {
      "text/plain": [
       "subpanel_code_type\n",
       "HS    5116\n",
       "NZ    5527\n",
       "ST    7345\n",
       "Name: id, dtype: int64"
      ]
     },
     "execution_count": 49,
     "metadata": {},
     "output_type": "execute_result"
    }
   ],
   "source": [
    "grants.groupby('subpanel_code_type').count()['id']"
   ]
  },
  {
   "cell_type": "code",
   "execution_count": 50,
   "metadata": {},
   "outputs": [
    {
     "data": {
      "text/plain": [
       "17988"
      ]
     },
     "execution_count": 50,
     "metadata": {},
     "output_type": "execute_result"
    }
   ],
   "source": [
    "grants.shape[0]"
   ]
  },
  {
   "cell_type": "code",
   "execution_count": 52,
   "metadata": {},
   "outputs": [
    {
     "data": {
      "image/png": "[encoded data removed]",
      "text/plain": [
       "<Figure size 1080x648 with 1 Axes>"
      ]
     },
     "metadata": {
      "needs_background": "light"
     },
     "output_type": "display_data"
    }
   ],
   "source": [
    "plot2_data = grants.groupby('subpanel_code_type').sum().loc[:, ['budget_pln']].reset_index()\n",
    "\n",
    "plot2_data = plot2_data.sort_values('budget_pln', ascending=True).reset_index(drop=True)\n",
    "\n",
    "plot2_data.budget_pln /= 10 ** 6\n",
    "\n",
    "\n",
    "plt.figure(figsize=(15, 9))\n",
    "plt.barh(plot2_data.subpanel_code_type, plot2_data.budget_pln)\n",
    "plt.title('Łączna wartość konkursów NCN dla danego działu')\n",
    "plt.xlabel('Kwota w milionach PLN')\n",
    "\n",
    "\n",
    "plt.savefig('./plots/horizontalbarchart.png')\n",
    "plt.show()"
   ]
  },
  {
   "cell_type": "code",
   "execution_count": 100,
   "metadata": {},
   "outputs": [
    {
     "data": {
      "image/png": "[encoded data removed]",
      "text/plain": [
       "<Figure size 1080x648 with 1 Axes>"
      ]
     },
     "metadata": {
      "needs_background": "light"
     },
     "output_type": "display_data"
    }
   ],
   "source": [
    "plot3_data = grants.groupby('comp_name').sum().loc[:, ['budget_pln']].reset_index()\n",
    "\n",
    "threshold = float(plot3_data.loc[plot3_data.comp_name == 'HARMONIA', 'budget_pln']) - 1\n",
    "suma_pozostalych_konkursow = sum(plot3_data.budget_pln.loc[plot3_data.budget_pln.le(threshold)])\n",
    "plot3_data = plot3_data.append({\"comp_name\" : \"Pozostałe\", \"budget_pln\" : suma_pozostalych_konkursow},\n",
    "                               ignore_index=True)\n",
    "\n",
    "plot3_data = plot3_data.loc[plot3_data.budget_pln.ge(threshold), :]\n",
    "\n",
    "plot3_data = plot3_data.sort_values('budget_pln', ascending=True).reset_index(drop=True)\n",
    "\n",
    "plot3_data.budget_pln /= 10 ** 6\n",
    "\n",
    "plt.figure(figsize=(15, 9))\n",
    "plt.barh(plot3_data.comp_name, plot3_data.budget_pln)\n",
    "plt.title('Łączna wartość konkursów NCN dla danego działu')\n",
    "plt.xlabel('Kwota w milionach PLN')\n",
    "\n",
    "\n",
    "plt.savefig('./plots/horizontalbarchart-konkursy.png')\n",
    "\n",
    "plt.show()"
   ]
  },
  {
   "cell_type": "code",
   "execution_count": 96,
   "metadata": {},
   "outputs": [],
   "source": []
  },
  {
   "cell_type": "code",
   "execution_count": 99,
   "metadata": {},
   "outputs": [],
   "source": []
  },
  {
   "cell_type": "code",
   "execution_count": 95,
   "metadata": {},
   "outputs": [
    {
     "data": {
      "text/html": [
       "<div>\n",
       "<style scoped>\n",
       "    .dataframe tbody tr th:only-of-type {\n",
       "        vertical-align: middle;\n",
       "    }\n",
       "\n",
       "    .dataframe tbody tr th {\n",
       "        vertical-align: top;\n",
       "    }\n",
       "\n",
       "    .dataframe thead th {\n",
       "        text-align: right;\n",
       "    }\n",
       "</style>\n",
       "<table border=\"1\" class=\"dataframe\">\n",
       "  <thead>\n",
       "    <tr style=\"text-align: right;\">\n",
       "      <th></th>\n",
       "      <th>comp_name</th>\n",
       "      <th>budget_pln</th>\n",
       "    </tr>\n",
       "  </thead>\n",
       "  <tbody>\n",
       "    <tr>\n",
       "      <th>0</th>\n",
       "      <td>UWERTURA</td>\n",
       "      <td>1.669090</td>\n",
       "    </tr>\n",
       "    <tr>\n",
       "      <th>1</th>\n",
       "      <td>DAINA</td>\n",
       "      <td>14.730186</td>\n",
       "    </tr>\n",
       "    <tr>\n",
       "      <th>2</th>\n",
       "      <td>SHENG</td>\n",
       "      <td>19.572509</td>\n",
       "    </tr>\n",
       "    <tr>\n",
       "      <th>3</th>\n",
       "      <td>UNISONO</td>\n",
       "      <td>36.651752</td>\n",
       "    </tr>\n",
       "    <tr>\n",
       "      <th>4</th>\n",
       "      <td>BEETHOVEN</td>\n",
       "      <td>38.803112</td>\n",
       "    </tr>\n",
       "    <tr>\n",
       "      <th>5</th>\n",
       "      <td>SONATINA</td>\n",
       "      <td>73.416452</td>\n",
       "    </tr>\n",
       "    <tr>\n",
       "      <th>6</th>\n",
       "      <td>ETIUDA</td>\n",
       "      <td>81.580880</td>\n",
       "    </tr>\n",
       "    <tr>\n",
       "      <th>7</th>\n",
       "      <td>POLONEZ</td>\n",
       "      <td>86.310063</td>\n",
       "    </tr>\n",
       "    <tr>\n",
       "      <th>8</th>\n",
       "      <td>SYMFONIA</td>\n",
       "      <td>119.672058</td>\n",
       "    </tr>\n",
       "    <tr>\n",
       "      <th>9</th>\n",
       "      <td>FUGA</td>\n",
       "      <td>120.933287</td>\n",
       "    </tr>\n",
       "    <tr>\n",
       "      <th>10</th>\n",
       "      <td>HARMONIA</td>\n",
       "      <td>429.084817</td>\n",
       "    </tr>\n",
       "    <tr>\n",
       "      <th>11</th>\n",
       "      <td>PRELUDIUM</td>\n",
       "      <td>609.325250</td>\n",
       "    </tr>\n",
       "    <tr>\n",
       "      <th>12</th>\n",
       "      <td>MAESTRO</td>\n",
       "      <td>619.134034</td>\n",
       "    </tr>\n",
       "    <tr>\n",
       "      <th>13</th>\n",
       "      <td>SONATA BIS</td>\n",
       "      <td>787.060545</td>\n",
       "    </tr>\n",
       "    <tr>\n",
       "      <th>14</th>\n",
       "      <td>SONATA</td>\n",
       "      <td>941.612015</td>\n",
       "    </tr>\n",
       "    <tr>\n",
       "      <th>15</th>\n",
       "      <td>OPUS</td>\n",
       "      <td>4491.681027</td>\n",
       "    </tr>\n",
       "  </tbody>\n",
       "</table>\n",
       "</div>"
      ],
      "text/plain": [
       "     comp_name   budget_pln\n",
       "0     UWERTURA     1.669090\n",
       "1        DAINA    14.730186\n",
       "2        SHENG    19.572509\n",
       "3      UNISONO    36.651752\n",
       "4    BEETHOVEN    38.803112\n",
       "5     SONATINA    73.416452\n",
       "6       ETIUDA    81.580880\n",
       "7      POLONEZ    86.310063\n",
       "8     SYMFONIA   119.672058\n",
       "9         FUGA   120.933287\n",
       "10    HARMONIA   429.084817\n",
       "11   PRELUDIUM   609.325250\n",
       "12     MAESTRO   619.134034\n",
       "13  SONATA BIS   787.060545\n",
       "14      SONATA   941.612015\n",
       "15        OPUS  4491.681027"
      ]
     },
     "execution_count": 95,
     "metadata": {},
     "output_type": "execute_result"
    }
   ],
   "source": [
    "plot3_data"
   ]
  },
  {
   "cell_type": "code",
   "execution_count": null,
   "metadata": {},
   "outputs": [],
   "source": []
  }
 ],
 "metadata": {
  "kernelspec": {
   "display_name": "Python 3",
   "language": "python",
   "name": "python3"
  },
  "language_info": {
   "codemirror_mode": {
    "name": "ipython",
    "version": 3
   },
   "file_extension": ".py",
   "mimetype": "text/x-python",
   "name": "python",
   "nbconvert_exporter": "python",
   "pygments_lexer": "ipython3",
   "version": "3.7.0"
  }
 },
 "nbformat": 4,
 "nbformat_minor": 2
}
