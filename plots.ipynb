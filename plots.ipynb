{
 "cells": [
  {
   "cell_type": "code",
   "execution_count": 1,
   "metadata": {},
   "outputs": [
    {
     "name": "stdout",
     "output_type": "stream",
     "text": [
      "/home/jakubkala/IAD/semestr-2/data-visualisation/ncn-grants\r\n"
     ]
    }
   ],
   "source": [
    "!pwd"
   ]
  },
  {
   "cell_type": "code",
   "execution_count": 2,
   "metadata": {},
   "outputs": [],
   "source": [
    "import pandas as pd\n",
    "import numpy as np"
   ]
  },
  {
   "cell_type": "code",
   "execution_count": 3,
   "metadata": {},
   "outputs": [
    {
     "name": "stdout",
     "output_type": "stream",
     "text": [
      "descriptors.csv\t\tgrants_preprocessed.csv  ncn_2019.csv\t   README.md\r\n",
      "grants_description.csv\tgrants_small.csv\t ncn_fill.csv\r\n",
      "grants_larger.csv\tharmonogram\t\t overall_data.csv\r\n"
     ]
    }
   ],
   "source": [
    "!ls data/"
   ]
  },
  {
   "cell_type": "code",
   "execution_count": 20,
   "metadata": {},
   "outputs": [],
   "source": [
    "grants = pd.read_csv(\"data/grants_preprocessed.csv\")"
   ]
  },
  {
   "cell_type": "code",
   "execution_count": 109,
   "metadata": {},
   "outputs": [
    {
     "data": {
      "text/html": [
       "<div>\n",
       "<style scoped>\n",
       "    .dataframe tbody tr th:only-of-type {\n",
       "        vertical-align: middle;\n",
       "    }\n",
       "\n",
       "    .dataframe tbody tr th {\n",
       "        vertical-align: top;\n",
       "    }\n",
       "\n",
       "    .dataframe thead th {\n",
       "        text-align: right;\n",
       "    }\n",
       "</style>\n",
       "<table border=\"1\" class=\"dataframe\">\n",
       "  <thead>\n",
       "    <tr style=\"text-align: right;\">\n",
       "      <th></th>\n",
       "      <th>id</th>\n",
       "      <th>title</th>\n",
       "      <th>institution</th>\n",
       "      <th>project_status</th>\n",
       "      <th>comp</th>\n",
       "      <th>comp_date</th>\n",
       "      <th>comp_edition</th>\n",
       "      <th>comp_name</th>\n",
       "      <th>subpanel_code_type</th>\n",
       "      <th>subpanel_code_number</th>\n",
       "      <th>subpanel_description</th>\n",
       "      <th>budget_pln</th>\n",
       "      <th>duration_months</th>\n",
       "      <th>coinvestigators_cnt</th>\n",
       "      <th>year</th>\n",
       "    </tr>\n",
       "  </thead>\n",
       "  <tbody>\n",
       "    <tr>\n",
       "      <th>0</th>\n",
       "      <td>2011/01/B/HS1/00522</td>\n",
       "      <td>Czy istnieje coś, co zwiemy moralnym charakter...</td>\n",
       "      <td>UNIWERSYTET GDAŃSKI, Wydział Nauk Społecznych,...</td>\n",
       "      <td>Status projektu: Projekt rozliczony</td>\n",
       "      <td>OPUS 1</td>\n",
       "      <td>2011-03-15</td>\n",
       "      <td>1.0</td>\n",
       "      <td>OPUS</td>\n",
       "      <td>HS</td>\n",
       "      <td>1</td>\n",
       "      <td>Fundamentalne pytania o naturę człowieka i ota...</td>\n",
       "      <td>37560.0</td>\n",
       "      <td>30</td>\n",
       "      <td>1.0</td>\n",
       "      <td>2011</td>\n",
       "    </tr>\n",
       "    <tr>\n",
       "      <th>1</th>\n",
       "      <td>2011/01/B/HS1/00559</td>\n",
       "      <td>Odnowa czy herezja? Stosunek fenomenologii wsp...</td>\n",
       "      <td>Uniwersytet Gdański, Wydział Nauk Społecznych</td>\n",
       "      <td>Status projektu: Projekt rozliczony</td>\n",
       "      <td>OPUS 1</td>\n",
       "      <td>2011-03-15</td>\n",
       "      <td>1.0</td>\n",
       "      <td>OPUS</td>\n",
       "      <td>HS</td>\n",
       "      <td>1</td>\n",
       "      <td>Fundamentalne pytania o naturę człowieka i ota...</td>\n",
       "      <td>39000.0</td>\n",
       "      <td>36</td>\n",
       "      <td>1.0</td>\n",
       "      <td>2011</td>\n",
       "    </tr>\n",
       "    <tr>\n",
       "      <th>2</th>\n",
       "      <td>2011/01/B/HS1/00771</td>\n",
       "      <td>Status ziemi Izraela w Księdze Ezechiela i jeg...</td>\n",
       "      <td>Katolicki Uniwersytet Lubelski Jana Pawła II, ...</td>\n",
       "      <td>Status projektu: Projekt rozliczony</td>\n",
       "      <td>OPUS 1</td>\n",
       "      <td>2011-03-15</td>\n",
       "      <td>1.0</td>\n",
       "      <td>OPUS</td>\n",
       "      <td>HS</td>\n",
       "      <td>1</td>\n",
       "      <td>Fundamentalne pytania o naturę człowieka i ota...</td>\n",
       "      <td>58908.0</td>\n",
       "      <td>30</td>\n",
       "      <td>1.0</td>\n",
       "      <td>2011</td>\n",
       "    </tr>\n",
       "    <tr>\n",
       "      <th>3</th>\n",
       "      <td>2011/01/B/HS1/00944</td>\n",
       "      <td>Relacje tolerancji w kratach i ich wykorzystanie</td>\n",
       "      <td>Akademia im. Jana Długosza w Częstochowie, Wyd...</td>\n",
       "      <td>Status projektu: Projekt rozliczony</td>\n",
       "      <td>OPUS 1</td>\n",
       "      <td>2011-03-15</td>\n",
       "      <td>1.0</td>\n",
       "      <td>OPUS</td>\n",
       "      <td>HS</td>\n",
       "      <td>1</td>\n",
       "      <td>Fundamentalne pytania o naturę człowieka i ota...</td>\n",
       "      <td>69850.0</td>\n",
       "      <td>24</td>\n",
       "      <td>3.0</td>\n",
       "      <td>2011</td>\n",
       "    </tr>\n",
       "    <tr>\n",
       "      <th>4</th>\n",
       "      <td>2011/01/B/HS1/00954</td>\n",
       "      <td>Jezus i chrześcijanie w źródłach rabinicznych ...</td>\n",
       "      <td>UNIWERSYTET JAGIELLOŃSKI, Wydział Filozoficzny</td>\n",
       "      <td>Status projektu: Projekt rozliczony</td>\n",
       "      <td>OPUS 1</td>\n",
       "      <td>2011-03-15</td>\n",
       "      <td>1.0</td>\n",
       "      <td>OPUS</td>\n",
       "      <td>HS</td>\n",
       "      <td>1</td>\n",
       "      <td>Fundamentalne pytania o naturę człowieka i ota...</td>\n",
       "      <td>59800.0</td>\n",
       "      <td>12</td>\n",
       "      <td>16.0</td>\n",
       "      <td>2011</td>\n",
       "    </tr>\n",
       "  </tbody>\n",
       "</table>\n",
       "</div>"
      ],
      "text/plain": [
       "                    id                                              title  \\\n",
       "0  2011/01/B/HS1/00522  Czy istnieje coś, co zwiemy moralnym charakter...   \n",
       "1  2011/01/B/HS1/00559  Odnowa czy herezja? Stosunek fenomenologii wsp...   \n",
       "2  2011/01/B/HS1/00771  Status ziemi Izraela w Księdze Ezechiela i jeg...   \n",
       "3  2011/01/B/HS1/00944   Relacje tolerancji w kratach i ich wykorzystanie   \n",
       "4  2011/01/B/HS1/00954  Jezus i chrześcijanie w źródłach rabinicznych ...   \n",
       "\n",
       "                                         institution  \\\n",
       "0  UNIWERSYTET GDAŃSKI, Wydział Nauk Społecznych,...   \n",
       "1      Uniwersytet Gdański, Wydział Nauk Społecznych   \n",
       "2  Katolicki Uniwersytet Lubelski Jana Pawła II, ...   \n",
       "3  Akademia im. Jana Długosza w Częstochowie, Wyd...   \n",
       "4     UNIWERSYTET JAGIELLOŃSKI, Wydział Filozoficzny   \n",
       "\n",
       "                        project_status    comp   comp_date  comp_edition  \\\n",
       "0  Status projektu: Projekt rozliczony  OPUS 1  2011-03-15           1.0   \n",
       "1  Status projektu: Projekt rozliczony  OPUS 1  2011-03-15           1.0   \n",
       "2  Status projektu: Projekt rozliczony  OPUS 1  2011-03-15           1.0   \n",
       "3  Status projektu: Projekt rozliczony  OPUS 1  2011-03-15           1.0   \n",
       "4  Status projektu: Projekt rozliczony  OPUS 1  2011-03-15           1.0   \n",
       "\n",
       "  comp_name subpanel_code_type  subpanel_code_number  \\\n",
       "0      OPUS                 HS                     1   \n",
       "1      OPUS                 HS                     1   \n",
       "2      OPUS                 HS                     1   \n",
       "3      OPUS                 HS                     1   \n",
       "4      OPUS                 HS                     1   \n",
       "\n",
       "                                subpanel_description  budget_pln  \\\n",
       "0  Fundamentalne pytania o naturę człowieka i ota...     37560.0   \n",
       "1  Fundamentalne pytania o naturę człowieka i ota...     39000.0   \n",
       "2  Fundamentalne pytania o naturę człowieka i ota...     58908.0   \n",
       "3  Fundamentalne pytania o naturę człowieka i ota...     69850.0   \n",
       "4  Fundamentalne pytania o naturę człowieka i ota...     59800.0   \n",
       "\n",
       "   duration_months  coinvestigators_cnt  year  \n",
       "0               30                  1.0  2011  \n",
       "1               36                  1.0  2011  \n",
       "2               30                  1.0  2011  \n",
       "3               24                  3.0  2011  \n",
       "4               12                 16.0  2011  "
      ]
     },
     "execution_count": 109,
     "metadata": {},
     "output_type": "execute_result"
    }
   ],
   "source": [
    "grants.head()"
   ]
  },
  {
   "cell_type": "code",
   "execution_count": 21,
   "metadata": {},
   "outputs": [],
   "source": [
    "grants['year'] = grants.comp_date.apply(lambda x: x[:4])"
   ]
  },
  {
   "cell_type": "code",
   "execution_count": 22,
   "metadata": {},
   "outputs": [],
   "source": [
    "plot1_data = grants.loc[:, ['subpanel_code_type', 'year', 'budget_pln']].groupby(['subpanel_code_type', 'year']).sum()\n",
    "plot1_data.budget_pln /= 10**6"
   ]
  },
  {
   "cell_type": "code",
   "execution_count": 23,
   "metadata": {},
   "outputs": [],
   "source": [
    "plot1_data.reset_index(inplace=True)"
   ]
  },
  {
   "cell_type": "code",
   "execution_count": 24,
   "metadata": {},
   "outputs": [
    {
     "data": {
      "text/plain": [
       "<Figure size 144x936 with 0 Axes>"
      ]
     },
     "execution_count": 24,
     "metadata": {},
     "output_type": "execute_result"
    },
    {
     "data": {
      "image/png": "[encoded data removed]",
      "text/plain": [
       "<Figure size 432x72 with 1 Axes>"
      ]
     },
     "metadata": {},
     "output_type": "display_data"
    },
    {
     "data": {
      "text/plain": [
       "<Figure size 144x936 with 0 Axes>"
      ]
     },
     "metadata": {},
     "output_type": "display_data"
    }
   ],
   "source": [
    "import matplotlib.pyplot as plt\n",
    "import seaborn as sns\n",
    "\n",
    "sns.set_style(\"whitegrid\")\n",
    "sns.palplot(sns.color_palette(\"GnBu_d\"))\n",
    "sns.set_palette(\"GnBu_d\")\n",
    "plt.figure(figsize=(2, 13))"
   ]
  },
  {
   "cell_type": "code",
   "execution_count": 27,
   "metadata": {},
   "outputs": [
    {
     "data": {
      "image/png": "[encoded data removed]",
      "text/plain": [
       "<Figure size 432x288 with 1 Axes>"
      ]
     },
     "metadata": {},
     "output_type": "display_data"
    }
   ],
   "source": [
    "bottom = plot1_data.loc[plot1_data.subpanel_code_type == 'ST', 'budget_pln'] * 0\n",
    "bottom = np.array(bottom)\n",
    "\n",
    "for panel in list(plot1_data.subpanel_code_type.unique()):\n",
    "    \n",
    "    df = plot1_data.loc[plot1_data.subpanel_code_type == panel, :]\n",
    "    plt.bar(df.year, df.budget_pln , bottom = bottom, label=panel + \" - tutaj mozna cos dopisac\")\n",
    "    bottom += np.array(df.budget_pln)\n",
    "\n",
    "    plt.ylabel('Budget in kkPLN')\n",
    "    \n",
    "plt.title('Budget by panel')\n",
    "plt.legend(loc='center left', bbox_to_anchor=(1, 0.5))\n",
    "\n",
    "plt.show()"
   ]
  },
  {
   "cell_type": "code",
   "execution_count": 30,
   "metadata": {},
   "outputs": [
    {
     "data": {
      "image/png": "[encoded data removed]",
      "text/plain": [
       "<Figure size 432x288 with 1 Axes>"
      ]
     },
     "metadata": {},
     "output_type": "display_data"
    }
   ],
   "source": [
    "for panel in list(plot1_data.subpanel_code_type.unique()):\n",
    "    \n",
    "    df = plot1_data.loc[plot1_data.subpanel_code_type == panel, :]\n",
    "    plt.plot(df.year, df.budget_pln, label=panel + \" - tutaj mozna cos dopisac\")\n",
    "    \n",
    "    plt.ylabel('Budget in kkPLN')\n",
    "    \n",
    "plt.title('Budget by panel')\n",
    "plt.legend(loc='center left', bbox_to_anchor=(1, 0.5))\n",
    "\n",
    "plt.show()"
   ]
  },
  {
   "cell_type": "code",
   "execution_count": 34,
   "metadata": {},
   "outputs": [
    {
     "data": {
      "text/html": [
       "<div>\n",
       "<style scoped>\n",
       "    .dataframe tbody tr th:only-of-type {\n",
       "        vertical-align: middle;\n",
       "    }\n",
       "\n",
       "    .dataframe tbody tr th {\n",
       "        vertical-align: top;\n",
       "    }\n",
       "\n",
       "    .dataframe thead th {\n",
       "        text-align: right;\n",
       "    }\n",
       "</style>\n",
       "<table border=\"1\" class=\"dataframe\">\n",
       "  <thead>\n",
       "    <tr style=\"text-align: right;\">\n",
       "      <th></th>\n",
       "      <th>budget_pln</th>\n",
       "    </tr>\n",
       "    <tr>\n",
       "      <th>subpanel_code_type</th>\n",
       "      <th></th>\n",
       "    </tr>\n",
       "  </thead>\n",
       "  <tbody>\n",
       "    <tr>\n",
       "      <th>HS</th>\n",
       "      <td>1326.251149</td>\n",
       "    </tr>\n",
       "    <tr>\n",
       "      <th>NZ</th>\n",
       "      <td>3376.958201</td>\n",
       "    </tr>\n",
       "    <tr>\n",
       "      <th>ST</th>\n",
       "      <td>3768.027727</td>\n",
       "    </tr>\n",
       "  </tbody>\n",
       "</table>\n",
       "</div>"
      ],
      "text/plain": [
       "                     budget_pln\n",
       "subpanel_code_type             \n",
       "HS                  1326.251149\n",
       "NZ                  3376.958201\n",
       "ST                  3768.027727"
      ]
     },
     "execution_count": 34,
     "metadata": {},
     "output_type": "execute_result"
    }
   ],
   "source": [
    "plot1_data.groupby('subpanel_code_type').sum()"
   ]
  },
  {
   "cell_type": "code",
   "execution_count": 35,
   "metadata": {},
   "outputs": [
    {
     "data": {
      "text/plain": [
       "8471.237076999998"
      ]
     },
     "execution_count": 35,
     "metadata": {},
     "output_type": "execute_result"
    }
   ],
   "source": [
    "sum(plot1_data.budget_pln)"
   ]
  },
  {
   "cell_type": "code",
   "execution_count": 112,
   "metadata": {},
   "outputs": [
    {
     "data": {
      "image/png": "[encoded data removed]",
      "text/plain": [
       "<Figure size 432x288 with 1 Axes>"
      ]
     },
     "metadata": {},
     "output_type": "display_data"
    }
   ],
   "source": [
    "plot2_data = grants.groupby('subpanel_code_type').sum().loc[:, ['budget_pln']].reset_index()\n",
    "\n",
    "plot2_data = plot2_data.sort_values('budget_pln', ascending=True).reset_index(drop=True)\n",
    "\n",
    "plot2_data.budget_pln /= 10 ** 6\n",
    "\n",
    "plt.barh(plot2_data.subpanel_code_type, plot2_data.budget_pln)\n",
    "plt.title('Total budget in kkPLN')\n",
    "\n",
    "plt.show()"
   ]
  },
  {
   "cell_type": "code",
   "execution_count": 115,
   "metadata": {},
   "outputs": [
    {
     "data": {
      "image/png": "[encoded data removed]",
      "text/plain": [
       "<Figure size 432x288 with 1 Axes>"
      ]
     },
     "metadata": {},
     "output_type": "display_data"
    }
   ],
   "source": [
    "plot3_data = grants.groupby('comp_name').sum().loc[:, ['budget_pln']].reset_index()\n",
    "\n",
    "plot3_data = plot3_data.sort_values('budget_pln', ascending=True).reset_index(drop=True)\n",
    "\n",
    "plot3_data.budget_pln /= 10 ** 6\n",
    "\n",
    "plt.barh(plot3_data.comp_name, plot3_data.budget_pln)\n",
    "plt.title('Total budget in kkPLN')\n",
    "\n",
    "plt.show()"
   ]
  },
  {
   "cell_type": "code",
   "execution_count": null,
   "metadata": {},
   "outputs": [],
   "source": []
  }
 ],
 "metadata": {
  "kernelspec": {
   "display_name": "Python 3",
   "language": "python",
   "name": "python3"
  },
  "language_info": {
   "codemirror_mode": {
    "name": "ipython",
    "version": 3
   },
   "file_extension": ".py",
   "mimetype": "text/x-python",
   "name": "python",
   "nbconvert_exporter": "python",
   "pygments_lexer": "ipython3",
   "version": "3.7.0"
  }
 },
 "nbformat": 4,
 "nbformat_minor": 2
}
